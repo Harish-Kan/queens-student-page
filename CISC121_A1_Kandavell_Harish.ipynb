{
  "cells": [
    {
      "cell_type": "markdown",
      "metadata": {
        "id": "view-in-github",
        "colab_type": "text"
      },
      "source": [
        "<a href=\"https://colab.research.google.com/github/Harish-Kan/queens-student-page/blob/main/CISC121_A1_Kandavell_Harish.ipynb\" target=\"_parent\"><img src=\"https://colab.research.google.com/assets/colab-badge.svg\" alt=\"Open In Colab\"/></a>"
      ]
    },
    {
      "cell_type": "code",
      "source": [
        "#Assignment 1 + Harish Kandavell + 20522324\n",
        "\n",
        "\n",
        "#https://colab.research.google.com/drive/1euDyIZSeuXpCFCQgZHcxMCIVfN-prET0?usp=sharing\n"
      ],
      "metadata": {
        "id": "-l2tnbuukB4q"
      },
      "execution_count": null,
      "outputs": []
    },
    {
      "cell_type": "markdown",
      "metadata": {
        "id": "sFwGFoQHvgyB"
      },
      "source": [
        "<details>\n",
        "  <summary> </summary>\n",
        "  This is a university assignment, there are expilicit instructions for the use of AI, please follow them. For any departure from what is instructred, this assignment cannot be accepted.\n",
        "</details>"
      ]
    },
    {
      "cell_type": "markdown",
      "metadata": {
        "id": "sAREeEgkZ515"
      },
      "source": [
        "# **CISC 121 - Section 002 – Assignment 1** 🚀\n",
        "## Total of 25 marks to be converted to 5% of grade\n",
        "\n",
        "\n",
        "## 🔗 Problem\n",
        "1. Two Sum: https://leetcode.com/problems/two-sum/\n",
        "\n",
        "2. Divisor Game: https://leetcode.com/problems/divisor-game/\n",
        "\n",
        "3. Longest Common Prefix: https://leetcode.com/problems/longest-common-prefix/\n",
        "\n",
        "4. Move Zeroes: https://leetcode.com/problems/move-zeroes/\n",
        "\n",
        "5. Add Digits: https://leetcode.com/problems/add-digits/\n",
        "\n",
        "## 5 Marks per problem (1 mark per subsection of the problem)"
      ]
    },
    {
      "cell_type": "markdown",
      "metadata": {
        "id": "rAwLuBzFZxf3"
      },
      "source": [
        "#  Problem 1\n",
        "\n",
        "\n"
      ]
    },
    {
      "cell_type": "markdown",
      "metadata": {
        "id": "r9EKMWjKIQP3"
      },
      "source": [
        "## 1. Understanding & Breakdown\n",
        "\n",
        "### _Understand the problem, using the pillars of Computation: Problem Decomposition, Pattern Recognition, Abstraction, and Algortihmic Thinking. For algorithmic thinking explain the inputs/outputs, constraints, and write down your plan or steps to solve the problem or draw the flowchart using digital or real pen-paper. Insert the image below.\n",
        "\n",
        "**AI Level 1** is allowed to understand the concept, but you need to sketch the problem down by yourself (Check the Syllabus for more details about AI use levels).\n",
        "\n",
        "**Your effort is more important than the accuracy for this section**\n",
        "\n",
        "Use the following markdown to provide your answer"
      ]
    },
    {
      "cell_type": "markdown",
      "metadata": {
        "id": "o8g5xN1ASQDu"
      },
      "source": [
        "Brute Force Method,\n",
        "Grab one number through one loop,\n",
        "Create a nested loop,\n",
        "Compare the grabbed numbers to every single other number inside of the list,\n",
        "If both numbers added up equal the target, then position of both values are returned,\n",
        "If both the numbers in the end don’t actually add up, then the code is repeated till they actually add up,\n",
        "\n",
        "Inputs and constraints :\n",
        "nums and target\n",
        "\n",
        "\n",
        "FUNCTION twoSum(nums, target):\n",
        "\n",
        "    FOR i FROM 0 TO length of nums - 1:\n",
        "        FOR j FROM i + 1 TO length of nums - 1:\n",
        "            \n",
        "            IF nums[i] + nums[j] == target:\n",
        "                RETURN [i, j]  \n",
        "    \n",
        "    RETURN []\n",
        "\n"
      ]
    },
    {
      "cell_type": "markdown",
      "metadata": {
        "id": "aUHzVrY4cTX0"
      },
      "source": [
        "\n",
        "## 2. Peer Review & Draft Code\n",
        "\n",
        "**Review Guidance:**  \n",
        "\n",
        "Visit the **\"Solutions\"** tab on LeetCode (the provided link above) for the selected problem and review at least one top-rated solution. You may also search for relevant discussions or Q&A threads on **Stack Overflow** or other forums to understand how others approached the problem.\n",
        "\n",
        "Then, write your own version based on what you understood. The goal is not to copy but to apply what you learned. Always include links to the resources you reviewed.\n",
        "\n",
        "---\n",
        "\n",
        "### **Example Answer (for \"Two Sum\"):**\n",
        "\n",
        "\"I reviewed the top solution under the LeetCode “Solutions” tab and one post on Stack Overflow:  https://stackoverflow.com/questions/30021060/two-sum-on-leetcode. At first the syntax was confusing, but the idea is clearer now: we build a dictionary mapping each number to its index. Then, as we loop with enumerate, we check if the target number minus the value is already in the dictionary and make sure it’s not the same index. If yes, that means we’ve found the pair, so we return both indices (shifted by +1 for 1-based indexing).\"\n"
      ]
    },
    {
      "cell_type": "code",
      "execution_count": null,
      "metadata": {
        "id": "NPk65D2zciQV",
        "colab": {
          "base_uri": "https://localhost:8080/",
          "height": 332
        },
        "outputId": "b898dcbd-a901-422c-815e-e7444fa13df3"
      },
      "outputs": [
        {
          "output_type": "error",
          "ename": "NameError",
          "evalue": "name 'List' is not defined",
          "traceback": [
            "\u001b[0;31m---------------------------------------------------------------------------\u001b[0m",
            "\u001b[0;31mNameError\u001b[0m                                 Traceback (most recent call last)",
            "\u001b[0;32m/tmp/ipython-input-3057053796.py\u001b[0m in \u001b[0;36m<cell line: 0>\u001b[0;34m()\u001b[0m\n\u001b[1;32m      1\u001b[0m \u001b[0;31m#First\u001b[0m\u001b[0;34m\u001b[0m\u001b[0;34m\u001b[0m\u001b[0m\n\u001b[1;32m      2\u001b[0m \u001b[0;34m\u001b[0m\u001b[0m\n\u001b[0;32m----> 3\u001b[0;31m \u001b[0;32mclass\u001b[0m \u001b[0mSolution\u001b[0m\u001b[0;34m:\u001b[0m\u001b[0;34m\u001b[0m\u001b[0;34m\u001b[0m\u001b[0m\n\u001b[0m\u001b[1;32m      4\u001b[0m     \u001b[0;32mdef\u001b[0m \u001b[0mtwoSum\u001b[0m\u001b[0;34m(\u001b[0m\u001b[0mself\u001b[0m\u001b[0;34m,\u001b[0m \u001b[0mnums\u001b[0m\u001b[0;34m:\u001b[0m \u001b[0mList\u001b[0m\u001b[0;34m[\u001b[0m\u001b[0mint\u001b[0m\u001b[0;34m]\u001b[0m\u001b[0;34m,\u001b[0m \u001b[0mtarget\u001b[0m\u001b[0;34m:\u001b[0m \u001b[0mint\u001b[0m\u001b[0;34m)\u001b[0m \u001b[0;34m->\u001b[0m \u001b[0mList\u001b[0m\u001b[0;34m[\u001b[0m\u001b[0mint\u001b[0m\u001b[0;34m]\u001b[0m\u001b[0;34m:\u001b[0m\u001b[0;34m\u001b[0m\u001b[0;34m\u001b[0m\u001b[0m\n\u001b[1;32m      5\u001b[0m         \u001b[0mnums\u001b[0m\u001b[0;34m.\u001b[0m\u001b[0msort\u001b[0m\u001b[0;34m(\u001b[0m\u001b[0;34m)\u001b[0m\u001b[0;34m\u001b[0m\u001b[0;34m\u001b[0m\u001b[0m\n",
            "\u001b[0;32m/tmp/ipython-input-3057053796.py\u001b[0m in \u001b[0;36mSolution\u001b[0;34m()\u001b[0m\n\u001b[1;32m      2\u001b[0m \u001b[0;34m\u001b[0m\u001b[0m\n\u001b[1;32m      3\u001b[0m \u001b[0;32mclass\u001b[0m \u001b[0mSolution\u001b[0m\u001b[0;34m:\u001b[0m\u001b[0;34m\u001b[0m\u001b[0;34m\u001b[0m\u001b[0m\n\u001b[0;32m----> 4\u001b[0;31m     \u001b[0;32mdef\u001b[0m \u001b[0mtwoSum\u001b[0m\u001b[0;34m(\u001b[0m\u001b[0mself\u001b[0m\u001b[0;34m,\u001b[0m \u001b[0mnums\u001b[0m\u001b[0;34m:\u001b[0m \u001b[0mList\u001b[0m\u001b[0;34m[\u001b[0m\u001b[0mint\u001b[0m\u001b[0;34m]\u001b[0m\u001b[0;34m,\u001b[0m \u001b[0mtarget\u001b[0m\u001b[0;34m:\u001b[0m \u001b[0mint\u001b[0m\u001b[0;34m)\u001b[0m \u001b[0;34m->\u001b[0m \u001b[0mList\u001b[0m\u001b[0;34m[\u001b[0m\u001b[0mint\u001b[0m\u001b[0;34m]\u001b[0m\u001b[0;34m:\u001b[0m\u001b[0;34m\u001b[0m\u001b[0;34m\u001b[0m\u001b[0m\n\u001b[0m\u001b[1;32m      5\u001b[0m         \u001b[0mnums\u001b[0m\u001b[0;34m.\u001b[0m\u001b[0msort\u001b[0m\u001b[0;34m(\u001b[0m\u001b[0;34m)\u001b[0m\u001b[0;34m\u001b[0m\u001b[0;34m\u001b[0m\u001b[0m\n\u001b[1;32m      6\u001b[0m         \u001b[0mlist\u001b[0m \u001b[0;34m=\u001b[0m \u001b[0;34m[\u001b[0m\u001b[0;34m]\u001b[0m\u001b[0;34m\u001b[0m\u001b[0;34m\u001b[0m\u001b[0m\n",
            "\u001b[0;31mNameError\u001b[0m: name 'List' is not defined"
          ]
        }
      ],
      "source": [
        "#First\n",
        "\n",
        "class Solution:\n",
        "    def twoSum(self, nums: List[int], target: int) -> List[int]:\n",
        "        nums.sort()\n",
        "        list = []\n",
        "        for i in range(1,lens(nums)):\n",
        "            if nums[i]!=nums[i-1]:\n",
        "                if nums[i]+nums[i-1]==target:\n",
        "                    list.append(i)\n",
        "                    list.append(i-1)\n",
        "        print(list)\n",
        "\n",
        "#Second\n",
        "\n",
        "\n",
        "class Solution:\n",
        "    def twoSum(self, nums: List[int], target: int) -> List[int]:\n",
        "        for i in range(0,len(nums)):\n",
        "            for j in range(1+1,len(nums)):\n",
        "                if nums[i]+nums[j]==target:\n",
        "                    return [i, j]\n",
        "        return []\n"
      ]
    },
    {
      "cell_type": "markdown",
      "metadata": {
        "id": "Om2fMRWLceyo"
      },
      "source": [
        "## 3. Final Correct Code\n",
        "\n",
        "_This version must pass all required test cases and handle edge cases correctly._\n",
        "\n",
        "At this stage, you may:\n",
        "- Use reviewed solutions or programming AI tools (e.g., ChatGPT, GitHub Copilot) to refine and fix errors.\n",
        "- Refactor your draft to ensure accuracy and completeness.\n",
        "\n",
        " **AI Level 4 is allowed**, but you **must include a disclaimer** that clearly states what tools you used, how you used them, and for which part of the code.\n"
      ]
    },
    {
      "cell_type": "code",
      "execution_count": null,
      "metadata": {
        "id": "CukQ_t3xcuDV"
      },
      "outputs": [],
      "source": [
        "# Final working solution\n",
        "# [AI Disclaimer example: Used ChatGPT with prompt “How to handle recursion base case” only for concept]\n",
        "\n",
        "\n",
        "class Solution(object):\n",
        "    def twoSum(self, nums, target):\n",
        "        for i in range(0,len(nums)):\n",
        "            for k in range(i+1,len(nums)):\n",
        "#Check if the first grabbed value + all the other values equal the target\n",
        "                if nums[i]+nums[k]==target:\n",
        "                    return [i, k]\n",
        "        return []\n",
        "\n",
        "#Seeing if the code actually runs properly\n",
        "res = Solution().twoSum([2, 7, 11, 15], 9)\n",
        "print(res)\n",
        "print([ [2, 7, 11, 15][i] for i in res ])\n",
        "\n"
      ]
    },
    {
      "cell_type": "markdown",
      "metadata": {
        "id": "n-a6rKrlUyQP"
      },
      "source": [
        "Add the screenshot of output for all the test cases from your working solutions."
      ]
    },
    {
      "cell_type": "markdown",
      "metadata": {
        "id": "fJrDhzvMcxVN"
      },
      "source": [
        "## 4. Review & Fixes\n",
        "_What did you improve from your draft? 2 fixes with your comments._\n",
        "\n"
      ]
    },
    {
      "cell_type": "code",
      "execution_count": null,
      "metadata": {
        "id": "tzEAjBgfMtod"
      },
      "outputs": [],
      "source": [
        "# Fix 1:\n",
        "\n",
        "# Draft version (manual and repetitive logic)\n",
        "\n",
        "#In proper logic, repetitive logic\n",
        "\n",
        "#Intially I understood what the whole logic was. I understood what I needed to do, but I didn't entilry know how to compare one value from all the values with all the other values. So I then realized I had to grab both the values from a nested loop\n",
        "# Fixed version (cleaner and scalable)\n",
        "\n",
        "\n",
        "#Cleaner logic in the futrue\n",
        "\n"
      ]
    },
    {
      "cell_type": "code",
      "execution_count": 1,
      "metadata": {
        "id": "ElfXHAqFMzQT"
      },
      "outputs": [],
      "source": [
        "# Fix 2:\n",
        "\n",
        "# Draft version:\n",
        "#I reaized you didn't really need to store the values inside of a string, you can just store one value temperaly in a nested loop. I didn't realize the whole concept was a lot easier\n",
        " #In proper syntax\n",
        " #Wrong logic\n",
        " #Almost on the right track\n",
        "\n",
        "# Fixed version:\n",
        "#Fixed the logic"
      ]
    },
    {
      "cell_type": "markdown",
      "metadata": {
        "id": "QfK-i2ITc4MU"
      },
      "source": [
        "## 5. Reflection on Your Contribution\n",
        "_Where did AI or Other's code helped or fail to help? What specific logic or debugging did you contribute yourself?_\n",
        "\n",
        "## Example\n",
        "1. I used ChatGPT (Level 4) to help identify an edge case where my draft code failed when the input string started with a closing bracket. I also used ChatGPT to help structure the final loop and mapping dictionary, but verified all logic myself by tracing the code.\n",
        "\n",
        "2.  I used ChatGPT to help write the loop. But the code had an indentation error after the `if` block, which caused it to fail. I fixed the spacing and made sure the code runs correctly.\n",
        "\n",
        "3. I used opensource code from Github. I found and fixed a logic bug where they used if s[i] == '(' or ')', which always returned True. I corrected it to properly check both conditions.\n",
        "\n"
      ]
    },
    {
      "cell_type": "markdown",
      "metadata": {
        "id": "RwcbZnFASQDv"
      },
      "source": [
        "## Your answer:\n",
        "\n",
        "\n",
        "AI or external assitance was not used for this problem. No AI was used to understand the question. Everything was writtem by hand."
      ]
    },
    {
      "cell_type": "markdown",
      "metadata": {
        "id": "USwRg1coc-BO"
      },
      "source": [
        "#  Repeat this template for Problems 2–5\n",
        "You may copy-paste the above section 4 more times or duplicate cells in your notebook environment.\n",
        "\n",
        "Remember:\n",
        "Proper attribution  \n",
        "No copy-pasting from AI or others  \n",
        "\n",
        "\n"
      ]
    },
    {
      "cell_type": "markdown",
      "metadata": {
        "id": "SYt5mNEYdMHJ"
      },
      "source": [
        "1. Your Name: Karikaran Harish Kandavell\n",
        "2. Section: 002\n",
        "3. ID: 20522324\n",
        "4. Github Link of this notebook:\n",
        "5. Chat\n",
        "\n",
        "*   Share Chat in a shared Document link\n",
        "*   if you used Colab's built in Gemini, copy paste full chat below"
      ]
    },
    {
      "cell_type": "markdown",
      "metadata": {
        "id": "BmAvOcVU8jXl"
      },
      "source": [
        "#  Problem 2\n",
        "\n",
        "\n",
        "\n"
      ]
    },
    {
      "cell_type": "markdown",
      "metadata": {
        "id": "VaPm3ZpV88pe"
      },
      "source": [
        "## 1. Understanding & Breakdown\n",
        "\n",
        "### _Understand the problem, using the pillars of Computation: Problem Decomposition, Pattern Recognition, Abstraction, and Algortihmic Thinking. For algorithmic thinking explain the inputs/outputs, constraints, and write down your plan or steps to solve the problem or draw the flowchart using digital or real pen-paper. Insert the image below.\n",
        "\n",
        "**AI Level 1** is allowed to understand the concept, but you need to sketch the problem down by yourself (Check the Syllabus for more details about AI use levels).\n",
        "\n",
        "**Your effort is more important than the accuracy for this section**\n",
        "\n",
        "Use the following markdown to provide your answer"
      ]
    },
    {
      "cell_type": "markdown",
      "metadata": {
        "id": "NVkF1kyp9D_z"
      },
      "source": [
        "N % 2 = 0 – > we would have to see if the number is going to divided into the number equally\n",
        "If the condition works then n-x=n\n",
        "N -  x = n\n",
        "Then a for loop is used to keep looping through the code\n",
        "\n",
        "#\n",
        "#FUNCTION AliceWins(n):\n",
        "    IF n % 2 == 0:\n",
        "        RETURN True\n",
        "    ELSE:\n",
        "        RETURN False\n",
        "\n",
        "\n"
      ]
    },
    {
      "cell_type": "markdown",
      "metadata": {
        "id": "SFZh5W_p-7QU"
      },
      "source": [
        "\n",
        "## 2. Peer Review & Draft Code\n",
        "\n",
        "**Review Guidance:**  \n",
        "\n",
        "Visit the **\"Solutions\"** tab on LeetCode (the provided link above) for the selected problem and review at least one top-rated solution. You may also search for relevant discussions or Q&A threads on **Stack Overflow** or other forums to understand how others approached the problem.\n",
        "\n",
        "Then, write your own version based on what you understood. The goal is not to copy but to apply what you learned. Always include links to the resources you reviewed.\n",
        "\n",
        "---\n",
        "\n",
        "### **Example Answer (for \"Two Sum\"):**\n",
        "\n",
        "\"I reviewed the top solution under the LeetCode “Solutions” tab and one post on Stack Overflow:  https://stackoverflow.com/questions/30021060/two-sum-on-leetcode. At first the syntax was confusing, but the idea is clearer now: we build a dictionary mapping each number to its index. Then, as we loop with enumerate, we check if the target number minus the value is already in the dictionary and make sure it’s not the same index. If yes, that means we’ve found the pair, so we return both indices (shifted by +1 for 1-based indexing).\"\n"
      ]
    },
    {
      "cell_type": "code",
      "execution_count": null,
      "metadata": {
        "colab": {
          "base_uri": "https://localhost:8080/",
          "height": 106
        },
        "id": "i5_xoOq6--mO",
        "outputId": "62e97429-7065-406c-b19a-94b80b3542f7"
      },
      "outputs": [
        {
          "output_type": "error",
          "ename": "SyntaxError",
          "evalue": "invalid syntax (ipython-input-377280208.py, line 6)",
          "traceback": [
            "\u001b[0;36m  File \u001b[0;32m\"/tmp/ipython-input-377280208.py\"\u001b[0;36m, line \u001b[0;32m6\u001b[0m\n\u001b[0;31m    self - n == self:\u001b[0m\n\u001b[0m                    ^\u001b[0m\n\u001b[0;31mSyntaxError\u001b[0m\u001b[0;31m:\u001b[0m invalid syntax\n"
          ]
        }
      ],
      "source": [
        "#First\n",
        "\n",
        "class Solution(object):\n",
        "    def divisorGame(self, n):\n",
        "        if self % n == 0:\n",
        "            self - n == self:\n",
        "            return True\n",
        "        else:\n",
        "            return False\n",
        "\n",
        "#Second\n",
        "\n",
        "class Solution(object):\n",
        "    def divisorGame(self, n):\n",
        "        while True:\n",
        "            if self % n == 0:\n",
        "                self - n == self\n",
        "                return True\n",
        "            else:\n",
        "                return False\n",
        "\n",
        "\n",
        "#reviewd :\n",
        "#https://leetcode.com/problems/divisor-game/solutions/7182670/divisor-game-beats-100\n",
        "\n"
      ]
    },
    {
      "cell_type": "markdown",
      "metadata": {
        "id": "Ob4ChCi__ccY"
      },
      "source": [
        "## 3. Final Correct Code\n",
        "\n",
        "_This version must pass all required test cases and handle edge cases correctly._\n",
        "\n",
        "At this stage, you may:\n",
        "- Use reviewed solutions or programming AI tools (e.g., ChatGPT, GitHub Copilot) to refine and fix errors.\n",
        "- Refactor your draft to ensure accuracy and completeness.\n",
        "\n",
        " **AI Level 4 is allowed**, but you **must include a disclaimer** that clearly states what tools you used, how you used them, and for which part of the code.\n"
      ]
    },
    {
      "cell_type": "code",
      "execution_count": null,
      "metadata": {
        "colab": {
          "base_uri": "https://localhost:8080/"
        },
        "outputId": "14c5aa2f-7b15-43a5-d424-3ed9486dbd70",
        "id": "vKHkovYG_fCs"
      },
      "outputs": [
        {
          "output_type": "stream",
          "name": "stdout",
          "text": [
            "True\n",
            "False\n"
          ]
        }
      ],
      "source": [
        "class Solution(object):\n",
        "    def divisorGame(self, n):\n",
        "#Make sure there is no reminder\n",
        "        return n % 2 == 0\n",
        "\n",
        "\n",
        "\n",
        "# Example calls\n",
        "sol = Solution()\n",
        "\n",
        "print(sol.divisorGame(2))\n",
        "print(sol.divisorGame(3))\n",
        "\n"
      ]
    },
    {
      "cell_type": "markdown",
      "metadata": {
        "id": "bitaqMFi_xv2"
      },
      "source": [
        "## 4. Review & Fixes\n",
        "_What did you improve from your draft? 2 fixes with your comments._\n",
        "\n"
      ]
    },
    {
      "cell_type": "code",
      "execution_count": null,
      "metadata": {
        "id": "UBo9ubtv_3VC"
      },
      "outputs": [],
      "source": [
        "# Fix 1 & 2:\n",
        "\n",
        "#with both the logic was tweaked and fixed\n",
        "#The syntax was completly wrong and was fixed with each attempt\n",
        "#The logic was actually a lot more easier to understand then I actually thought it would be\n",
        "\n"
      ]
    },
    {
      "cell_type": "markdown",
      "metadata": {
        "id": "haYgrPGeA7k4"
      },
      "source": [
        "## 5. Reflection on Your Contribution\n",
        "_Where did AI or Other's code helped or fail to help? What specific logic or debugging did you contribute yourself?_\n",
        "\n",
        "## Example\n",
        "1. I used ChatGPT (Level 4) to help identify an edge case where my draft code failed when the input string started with a closing bracket. I also used ChatGPT to help structure the final loop and mapping dictionary, but verified all logic myself by tracing the code.\n",
        "\n",
        "2.  I used ChatGPT to help write the loop. But the code had an indentation error after the `if` block, which caused it to fail. I fixed the spacing and made sure the code runs correctly.\n",
        "\n",
        "3. I used opensource code from Github. I found and fixed a logic bug where they used if s[i] == '(' or ')', which always returned True. I corrected it to properly check both conditions.\n",
        "\n"
      ]
    },
    {
      "cell_type": "markdown",
      "metadata": {
        "id": "2EjMOA2cBCD6"
      },
      "source": [
        "## Your answer:\n",
        "\n",
        "\n",
        "I tried my best to understand the logic. I was generally trying to not use the solutions tab to figure out the answer. I used the solutiosn tab and the opensoruce code from leetcode to understnad hte quesiton. I was able to fully grasp the concept and implment it inot my code. I couldn't really deffriate from the code as the code is only a few lines long. But I do understand more on how leetcode works.\n",
        "\n",
        "https://leetcode.com/problems/divisor-game/solutions/7182670/divisor-game-beats-100\n"
      ]
    },
    {
      "cell_type": "markdown",
      "metadata": {
        "id": "4ItTS4snB5hL"
      },
      "source": [
        "#  Problem 3\n",
        "\n",
        "\n",
        "\n"
      ]
    },
    {
      "cell_type": "markdown",
      "metadata": {
        "id": "LCQfqvCzDRax"
      },
      "source": [
        "## 1. Understanding & Breakdown\n",
        "\n",
        "### _Understand the problem, using the pillars of Computation: Problem Decomposition, Pattern Recognition, Abstraction, and Algortihmic Thinking. For algorithmic thinking explain the inputs/outputs, constraints, and write down your plan or steps to solve the problem or draw the flowchart using digital or real pen-paper. Insert the image below.\n",
        "\n",
        "**AI Level 1** is allowed to understand the concept, but you need to sketch the problem down by yourself (Check the Syllabus for more details about AI use levels).\n",
        "\n",
        "**Your effort is more important than the accuracy for this section**\n",
        "\n",
        "Use the following markdown to provide your answer"
      ]
    },
    {
      "cell_type": "markdown",
      "metadata": {
        "id": "QARaJaAtDUkE"
      },
      "source": [
        "\n",
        "Create a list == let\n",
        "X = 0\n",
        "This is going to be used for finding the position and the specific letter inside of a word\n",
        "While loop is used to go through the list of words\n",
        "Loop over each character index of hte first word\n",
        "Take the character from the first strong\n",
        "Check if the actual value just grabbed matches against all other values in the strings\n",
        "For loop for this\n",
        "If out of range or mismatched make sure to check it\n",
        "If true make sure to add the values to let\n",
        "Return let\n",
        "\n",
        "\n",
        "\n",
        "\n",
        "\n",
        "\n",
        "\n",
        "\n",
        "\n",
        "\n",
        "FUNCTION longestCommonPrefix(strs):\n",
        "\n",
        "    # Handle edge case: if list is empty\n",
        "    IF strs is empty:\n",
        "        RETURN \"\"\n",
        "\n",
        "    # Initialize a list to store matching characters\n",
        "    let = \"\"\n",
        "\n",
        "    # Index tracker\n",
        "    x = 0\n",
        "\n",
        "    # While loop to go through character indices of the first word\n",
        "    WHILE x < length of first word:\n",
        "\n",
        "        # Take the character at position x from the first word\n",
        "        current_char = strs[0][x]\n",
        "\n",
        "        # For each other word in the list\n",
        "        FOR i FROM 1 TO length of strs - 1:\n",
        "\n",
        "            # If index x is out of range OR character does not match\n",
        "            IF x >= length of strs[i] OR strs[i][x] != current_char:\n",
        "                RETURN let   # return\n"
      ]
    },
    {
      "cell_type": "markdown",
      "metadata": {
        "id": "Rf2YYjkQENRM"
      },
      "source": [
        "\n",
        "## 2. Peer Review & Draft Code\n",
        "\n",
        "**Review Guidance:**  \n",
        "\n",
        "Visit the **\"Solutions\"** tab on LeetCode (the provided link above) for the selected problem and review at least one top-rated solution. You may also search for relevant discussions or Q&A threads on **Stack Overflow** or other forums to understand how others approached the problem.\n",
        "\n",
        "Then, write your own version based on what you understood. The goal is not to copy but to apply what you learned. Always include links to the resources you reviewed.\n",
        "\n",
        "---\n",
        "\n",
        "### **Example Answer (for \"Two Sum\"):**\n",
        "\n",
        "\"I reviewed the top solution under the LeetCode “Solutions” tab and one post on Stack Overflow:  https://stackoverflow.com/questions/30021060/two-sum-on-leetcode. At first the syntax was confusing, but the idea is clearer now: we build a dictionary mapping each number to its index. Then, as we loop with enumerate, we check if the target number minus the value is already in the dictionary and make sure it’s not the same index. If yes, that means we’ve found the pair, so we return both indices (shifted by +1 for 1-based indexing).\"\n"
      ]
    },
    {
      "cell_type": "code",
      "execution_count": null,
      "metadata": {
        "id": "1jWrm90rEQVd"
      },
      "outputs": [],
      "source": [
        "#First\n",
        "class Solution(object):\n",
        "    def longestCommonPrefix(self, strs):\n",
        "        let = []\n",
        "        x = 0\n",
        "        for i in range(0,len(strs)):\n",
        "            for j in range(0,len(strs)):\n",
        "                if i[x] == i[j]:\n",
        "                    let.append(i[x])\n",
        "                else:\n",
        "                    break\n",
        "            x = x + 1\n",
        "        return let\n",
        "\n"
      ]
    },
    {
      "cell_type": "markdown",
      "metadata": {
        "id": "TUiPko5BGpBO"
      },
      "source": [
        "## 3. Final Correct Code\n",
        "\n",
        "_This version must pass all required test cases and handle edge cases correctly._\n",
        "\n",
        "At this stage, you may:\n",
        "- Use reviewed solutions or programming AI tools (e.g., ChatGPT, GitHub Copilot) to refine and fix errors.\n",
        "- Refactor your draft to ensure accuracy and completeness.\n",
        "\n",
        " **AI Level 4 is allowed**, but you **must include a disclaimer** that clearly states what tools you used, how you used them, and for which part of the code.\n"
      ]
    },
    {
      "cell_type": "code",
      "execution_count": null,
      "metadata": {
        "id": "tuqVfwAbGr1r"
      },
      "outputs": [],
      "source": [
        "class Solution(object):\n",
        "    def longestCommonPrefix(self, strs):\n",
        "        # If the input list is empty it causes the program to return an empty string\n",
        "        if not strs:\n",
        "            return \"\"\n",
        "        #Stores common characters as the progream finds them\n",
        "        let = []\n",
        "\n",
        "        #Loop through each chracter index from the actual code\n",
        "        for x in range(len(strs[0])):\n",
        "            char = strs[0][x]\n",
        "\n",
        "        #Compare this character with other characters in a variety of different postions\n",
        "            for j in range(1, len(strs)):\n",
        "                if x >= len(strs[j]) or strs[j][x] != char:\n",
        "                    return \"\".join(let)\n",
        "\n",
        "            let.append(char)\n",
        "\n",
        "        return \"\".join(let)\n",
        "\n",
        "\n",
        "#Making sure the code runs\n",
        "sol = Solution()\n",
        "\n",
        "print(sol.longestCommonPrefix([\"flower\", \"flow\", \"flight\"]))\n",
        "\n"
      ]
    },
    {
      "cell_type": "markdown",
      "metadata": {
        "id": "-FzxdPsdG73x"
      },
      "source": [
        "## 4. Review & Fixes\n",
        "_What did you improve from your draft? 2 fixes with your comments._\n",
        "\n"
      ]
    },
    {
      "cell_type": "code",
      "execution_count": null,
      "metadata": {
        "id": "p4eQxHuxG-kV"
      },
      "outputs": [],
      "source": [
        "# Fix 1 & 2:\n",
        "\n",
        "#with both the logic was tweaked and fixed\n",
        "#The syntax was completly wrong and was fixed with each attempt\n",
        "#The overll concept was right but the way that I implemented the code was not right\n"
      ]
    },
    {
      "cell_type": "markdown",
      "metadata": {
        "id": "aD-EjeohHFW0"
      },
      "source": [
        "## 5. Reflection on Your Contribution\n",
        "_Where did AI or Other's code helped or fail to help? What specific logic or debugging did you contribute yourself?_\n",
        "\n",
        "## Example\n",
        "1. I used ChatGPT (Level 4) to help identify an edge case where my draft code failed when the input string started with a closing bracket. I also used ChatGPT to help structure the final loop and mapping dictionary, but verified all logic myself by tracing the code.\n",
        "\n",
        "2.  I used ChatGPT to help write the loop. But the code had an indentation error after the `if` block, which caused it to fail. I fixed the spacing and made sure the code runs correctly.\n",
        "\n",
        "3. I used opensource code from Github. I found and fixed a logic bug where they used if s[i] == '(' or ')', which always returned True. I corrected it to properly check both conditions.\n",
        "\n"
      ]
    },
    {
      "cell_type": "markdown",
      "metadata": {
        "id": "oMPMllpyHHvM"
      },
      "source": [
        "## Your answer:\n",
        "\n",
        "AI was not used at all throughout this code.         if not strs:\n",
        "            return \"\" and         return \"\".join(let) was used from opensource code. I changed it so that it returned an actual proper value"
      ]
    },
    {
      "cell_type": "markdown",
      "metadata": {
        "id": "4KcLZugQHobf"
      },
      "source": [
        "#  Problem 4\n",
        "\n",
        "\n",
        "\n"
      ]
    },
    {
      "cell_type": "markdown",
      "metadata": {
        "id": "XbdkHOGXHrRF"
      },
      "source": [
        "## 1. Understanding & Breakdown\n",
        "\n",
        "### _Understand the problem, using the pillars of Computation: Problem Decomposition, Pattern Recognition, Abstraction, and Algortihmic Thinking. For algorithmic thinking explain the inputs/outputs, constraints, and write down your plan or steps to solve the problem or draw the flowchart using digital or real pen-paper. Insert the image below.\n",
        "\n",
        "**AI Level 1** is allowed to understand the concept, but you need to sketch the problem down by yourself (Check the Syllabus for more details about AI use levels).\n",
        "\n",
        "**Your effort is more important than the accuracy for this section**\n",
        "\n",
        "Use the following markdown to provide your answer"
      ]
    },
    {
      "cell_type": "markdown",
      "metadata": {
        "id": "SWIQPcGzICTW"
      },
      "source": [
        "Value J is used to track the position of a value inside of a the string that isn’t a 0\n",
        "A loop is used to go through  and iterate through each element of i\n",
        "The values are compared, if nums[i] ends up being a nonzero, it is switched places with a different value.\n",
        "It is swapped places until the 0 is pushed all the way back\n",
        "\n",
        "class Solution:\n",
        "    def moveZeroes(self, nums):\n",
        "        j = 0  # pointer for next non-zero position\n",
        "\n",
        "        for i in range(len(nums)):\n",
        "            if nums[i] != 0:\n",
        "                # swap only if i and j are different\n",
        "                nums[i], nums[j] = nums[j], nums[i]\n",
        "                j += 1\n",
        "\n",
        "        return nums\n",
        "\n"
      ]
    },
    {
      "cell_type": "code",
      "source": [],
      "metadata": {
        "id": "Z-WigN3aHZqi"
      },
      "execution_count": null,
      "outputs": []
    },
    {
      "cell_type": "markdown",
      "metadata": {
        "id": "XnaZEV3HInIs"
      },
      "source": [
        "\n",
        "## 2. Peer Review & Draft Code\n",
        "\n",
        "**Review Guidance:**  \n",
        "\n",
        "Visit the **\"Solutions\"** tab on LeetCode (the provided link above) for the selected problem and review at least one top-rated solution. You may also search for relevant discussions or Q&A threads on **Stack Overflow** or other forums to understand how others approached the problem.\n",
        "\n",
        "Then, write your own version based on what you understood. The goal is not to copy but to apply what you learned. Always include links to the resources you reviewed.\n",
        "\n",
        "---\n",
        "\n",
        "### **Example Answer (for \"Two Sum\"):**\n",
        "\n",
        "\"I reviewed the top solution under the LeetCode “Solutions” tab and one post on Stack Overflow:  https://stackoverflow.com/questions/30021060/two-sum-on-leetcode. At first the syntax was confusing, but the idea is clearer now: we build a dictionary mapping each number to its index. Then, as we loop with enumerate, we check if the target number minus the value is already in the dictionary and make sure it’s not the same index. If yes, that means we’ve found the pair, so we return both indices (shifted by +1 for 1-based indexing).\"\n"
      ]
    },
    {
      "cell_type": "code",
      "execution_count": null,
      "metadata": {
        "id": "_kwmaEtnIrXE"
      },
      "outputs": [],
      "source": [
        "class Solution:\n",
        "    def moveZeroes(self, nums):\n",
        "        j = 0\n",
        "        for i in range(len(nums)):\n",
        "            if nums[i] != 0:\n",
        "            # swap only if i and j are different\n",
        "                nums[j], nums[i] = nums[j], nums[i]\n",
        "                j += 1\n"
      ]
    },
    {
      "cell_type": "markdown",
      "metadata": {
        "id": "iLjznQn-I2wY"
      },
      "source": [
        "## 3. Final Correct Code\n",
        "\n",
        "_This version must pass all required test cases and handle edge cases correctly._\n",
        "\n",
        "At this stage, you may:\n",
        "- Use reviewed solutions or programming AI tools (e.g., ChatGPT, GitHub Copilot) to refine and fix errors.\n",
        "- Refactor your draft to ensure accuracy and completeness.\n",
        "\n",
        " **AI Level 4 is allowed**, but you **must include a disclaimer** that clearly states what tools you used, how you used them, and for which part of the code.\n"
      ]
    },
    {
      "cell_type": "code",
      "execution_count": null,
      "metadata": {
        "colab": {
          "base_uri": "https://localhost:8080/"
        },
        "outputId": "6885ab14-4da2-44ba-b986-912077bc8d99",
        "id": "WCSkqMNaI5Yw"
      },
      "outputs": [
        {
          "output_type": "stream",
          "name": "stdout",
          "text": [
            "[1, 3, 12, 0, 0]\n"
          ]
        }
      ],
      "source": [
        "class Solution:\n",
        "    def moveZeroes(self, nums):\n",
        "        j = 0\n",
        "        for i in range(len(nums)):\n",
        "            if nums[i] != 0:\n",
        "                nums[i], nums[j] = nums[j], nums[i]\n",
        "                j += 1\n",
        "\n",
        "\n",
        "nums = [0, 1, 0, 3, 12]\n",
        "solution = Solution()\n",
        "solution.moveZeroes(nums)\n",
        "\n",
        "print(nums)\n",
        "\n",
        "\n",
        "##https://leetcode.com/problems/move-zeroes/solutions/6884581/easy-to-understand-two-pointer-approach-using-single-for-loop-beats-100-0ms\n",
        "\n",
        "\n"
      ]
    },
    {
      "cell_type": "markdown",
      "metadata": {
        "id": "cK4zFHbFJLLK"
      },
      "source": [
        "## 4. Review & Fixes\n",
        "_What did you improve from your draft? 2 fixes with your comments._\n",
        "\n"
      ]
    },
    {
      "cell_type": "code",
      "execution_count": null,
      "metadata": {
        "id": "vc3bffrNJPH4"
      },
      "outputs": [],
      "source": [
        "# Fix 1 & 2:\n",
        "\n",
        "#with both the logic was tweaked and fixed\n",
        "#The syntax was completly wrong and was fixed with each attempt\n",
        "#The overll concept was right but the way that I implemented the code was not right\n"
      ]
    },
    {
      "cell_type": "markdown",
      "metadata": {
        "id": "bFK8yiSkJj6Y"
      },
      "source": [
        "## 5. Reflection on Your Contribution\n",
        "_Where did AI or Other's code helped or fail to help? What specific logic or debugging did you contribute yourself?_\n",
        "\n",
        "## Example\n",
        "1. I used ChatGPT (Level 4) to help identify an edge case where my draft code failed when the input string started with a closing bracket. I also used ChatGPT to help structure the final loop and mapping dictionary, but verified all logic myself by tracing the code.\n",
        "\n",
        "2.  I used ChatGPT to help write the loop. But the code had an indentation error after the `if` block, which caused it to fail. I fixed the spacing and made sure the code runs correctly.\n",
        "\n",
        "3. I used opensource code from Github. I found and fixed a logic bug where they used if s[i] == '(' or ')', which always returned True. I corrected it to properly check both conditions.\n",
        "\n"
      ]
    },
    {
      "cell_type": "markdown",
      "metadata": {
        "id": "dOa6rxIwJoHJ"
      },
      "source": [
        "## Your answer:\n",
        "I used the responces tab in leetcode. I was trying to understand the logic bymyself but ended up using the solutions tab.\n",
        "\n",
        "###https://leetcode.com/problems/move-zeroes/solutions/6884581/easy-to-understand-two-pointer-approach-using-single-for-loop-beats-100-0ms\n",
        "\n",
        "Other than that I understood the entire question and logic"
      ]
    },
    {
      "cell_type": "markdown",
      "metadata": {
        "id": "I9G109e6fjQF"
      },
      "source": [
        "#  Problem 5\n",
        "\n",
        "\n",
        "\n"
      ]
    },
    {
      "cell_type": "markdown",
      "metadata": {
        "id": "-a5wAVWYfpps"
      },
      "source": [
        "## 1. Understanding & Breakdown\n",
        "\n",
        "### _Understand the problem, using the pillars of Computation: Problem Decomposition, Pattern Recognition, Abstraction, and Algortihmic Thinking. For algorithmic thinking explain the inputs/outputs, constraints, and write down your plan or steps to solve the problem or draw the flowchart using digital or real pen-paper. Insert the image below.\n",
        "\n",
        "**AI Level 1** is allowed to understand the concept, but you need to sketch the problem down by yourself (Check the Syllabus for more details about AI use levels).\n",
        "\n",
        "**Your effort is more important than the accuracy for this section**\n",
        "\n",
        "Use the following markdown to provide your answer"
      ]
    },
    {
      "cell_type": "markdown",
      "metadata": {
        "id": "vc09G1krftXp"
      },
      "source": [
        "function digitalRoot(num):\n",
        "    if num == 0:\n",
        "        return 0\n",
        "\n",
        "    if num % 9 == 0:\n",
        "        return 9\n",
        "\n",
        "    return num % 9\n",
        "\n",
        "If the number equals 0 then return the value 0\n",
        "If the number % 9, and has no remainder, return the value 9. Which makes sure if it is equals to 9. Any number is divisible by 9 has a root for 9\n",
        "If this doesn’t go through either then % 9 again\n",
        "The function keeps running till there is no remainder\n",
        "\n",
        "\n"
      ]
    },
    {
      "cell_type": "markdown",
      "metadata": {
        "id": "rpKDOmuchMC8"
      },
      "source": [
        "\n",
        "## 2. Peer Review & Draft Code\n",
        "\n",
        "**Review Guidance:**  \n",
        "\n",
        "Visit the **\"Solutions\"** tab on LeetCode (the provided link above) for the selected problem and review at least one top-rated solution. You may also search for relevant discussions or Q&A threads on **Stack Overflow** or other forums to understand how others approached the problem.\n",
        "\n",
        "Then, write your own version based on what you understood. The goal is not to copy but to apply what you learned. Always include links to the resources you reviewed.\n",
        "\n",
        "---\n",
        "\n",
        "### **Example Answer (for \"Two Sum\"):**\n",
        "\n",
        "\"I reviewed the top solution under the LeetCode “Solutions” tab and one post on Stack Overflow:  https://stackoverflow.com/questions/30021060/two-sum-on-leetcode. At first the syntax was confusing, but the idea is clearer now: we build a dictionary mapping each number to its index. Then, as we loop with enumerate, we check if the target number minus the value is already in the dictionary and make sure it’s not the same index. If yes, that means we’ve found the pair, so we return both indices (shifted by +1 for 1-based indexing).\"\n"
      ]
    },
    {
      "cell_type": "code",
      "execution_count": null,
      "metadata": {
        "id": "_UQG7JwzhOfG"
      },
      "outputs": [],
      "source": [
        "class Solution(object):\n",
        "    def addDigits(self, num):\n",
        "\n",
        "        if num == 0 :\n",
        "            return 0\n",
        "        else :\n",
        "            return (num % 2)\n"
      ]
    },
    {
      "cell_type": "markdown",
      "metadata": {
        "id": "uTVDGTpAhWEQ"
      },
      "source": [
        "## 3. Final Correct Code\n",
        "\n",
        "_This version must pass all required test cases and handle edge cases correctly._\n",
        "\n",
        "At this stage, you may:\n",
        "- Use reviewed solutions or programming AI tools (e.g., ChatGPT, GitHub Copilot) to refine and fix errors.\n",
        "- Refactor your draft to ensure accuracy and completeness.\n",
        "\n",
        " **AI Level 4 is allowed**, but you **must include a disclaimer** that clearly states what tools you used, how you used them, and for which part of the code.\n"
      ]
    },
    {
      "cell_type": "code",
      "execution_count": null,
      "metadata": {
        "colab": {
          "base_uri": "https://localhost:8080/"
        },
        "outputId": "3f8228bc-0b85-410b-9c48-f814676271e2",
        "id": "X7Gm03ZkhaDD"
      },
      "outputs": [
        {
          "output_type": "stream",
          "name": "stdout",
          "text": [
            "9\n"
          ]
        }
      ],
      "source": [
        "class Solution(object):\n",
        "    def addDigits(self, num):\n",
        "        if num == 0:\n",
        "            return 0\n",
        "        if num % 9 == 0:\n",
        "            return 9\n",
        "        else:\n",
        "            return num % 9\n",
        "\n",
        "\n",
        "# Example usage\n",
        "solution = Solution()\n",
        "\n",
        "print(solution.addDigits(18))\n",
        "\n",
        "\n"
      ]
    },
    {
      "cell_type": "markdown",
      "metadata": {
        "id": "Ou0QIzdjhoN2"
      },
      "source": [
        "## 4. Review & Fixes\n",
        "_What did you improve from your draft? 2 fixes with your comments._\n",
        "\n"
      ]
    },
    {
      "cell_type": "code",
      "execution_count": null,
      "metadata": {
        "id": "vB9jZvNRhqj7"
      },
      "outputs": [],
      "source": [
        "# Fix 1 & 2:\n",
        "\n",
        "#with both the logic was tweaked and fixed\n",
        "#The syntax was completly wrong and was fixed with each attempt\n",
        "#The overll concept was right but the way that I implemented the code was not right\n",
        "#The code seemed unfinsihed and I wasn't really understand the quesiton proeprly, ads at the very start I though I had to use hte split() function and kept looping through all the digits of the funciton, but then I stawrted ot understnad what the question was really asking and a lot qucker way to actually do it. That what led to me the that draft\n"
      ]
    },
    {
      "cell_type": "markdown",
      "metadata": {
        "id": "JyQBMKy4h7ul"
      },
      "source": [
        "## 5. Reflection on Your Contribution\n",
        "_Where did AI or Other's code helped or fail to help? What specific logic or debugging did you contribute yourself?_\n",
        "\n",
        "## Example\n",
        "1. I used ChatGPT (Level 4) to help identify an edge case where my draft code failed when the input string started with a closing bracket. I also used ChatGPT to help structure the final loop and mapping dictionary, but verified all logic myself by tracing the code.\n",
        "\n",
        "2.  I used ChatGPT to help write the loop. But the code had an indentation error after the `if` block, which caused it to fail. I fixed the spacing and made sure the code runs correctly.\n",
        "\n",
        "3. I used opensource code from Github. I found and fixed a logic bug where they used if s[i] == '(' or ')', which always returned True. I corrected it to properly check both conditions.\n",
        "\n"
      ]
    },
    {
      "cell_type": "markdown",
      "metadata": {
        "id": "LQhM4ljkh9aH"
      },
      "source": [
        "## Your answer:\n",
        "AI was not used. Just a lot of thinking"
      ]
    },
    {
      "cell_type": "code",
      "source": [],
      "metadata": {
        "id": "0K5k8m8zJK3y"
      },
      "execution_count": null,
      "outputs": []
    }
  ],
  "metadata": {
    "colab": {
      "provenance": [],
      "include_colab_link": true
    },
    "kernelspec": {
      "display_name": "Python 3",
      "name": "python3"
    },
    "language_info": {
      "name": "python"
    }
  },
  "nbformat": 4,
  "nbformat_minor": 0
}